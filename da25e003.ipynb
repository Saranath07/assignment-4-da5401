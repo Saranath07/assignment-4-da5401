{
 "cells": [
  {
   "cell_type": "markdown",
   "id": "af9dcf8b",
   "metadata": {},
   "source": [
    "# DA5401 Assignment 4: GMM-Based Synthetic Sampling for Imbalanced Data\n",
    "\n",
    "**Submitted by: Saranath P - (DA25E003)**\n",
    "\n",
    "**Date: 15-Sep-2025**\n",
    "\n",
    "## A Data Scientist's Report for SecureBank Inc.\n",
    "\n",
    "**To:** Head of Fraud Prevention, SecureBank Inc.  \n",
    "**From:** Lead Data Scientist  \n",
    "**Subject:** Project Phoenix - Enhancing Fraud Detection with Probabilistic Modeling\n",
    "\n",
    "### Executive Summary\n",
    "\n",
    "This report details Project Phoenix, an initiative to improve our fraud detection capabilities by tackling the severe class imbalance in our transaction data. Our initial baseline model, while highly accurate overall, failed to identify a significant portion of fraudulent transactions, posing a substantial risk to our institution. This project implements a sophisticated, model-based oversampling technique using **Gaussian Mixture Models (GMMs)** to generate high-fidelity synthetic data for the minority (fraud) class. We demonstrate that by training our classifier on this enriched dataset, we can dramatically improve our ability to detect fraud (Recall) while maintaining a reasonable level of precision, leading to a much more robust and effective security system.\n"
   ]
  },
  {
   "cell_type": "markdown",
   "id": "99e1f358",
   "metadata": {},
   "source": [
    "### Part A: The Unseen Threat - Establishing a Baseline\n",
    "\n",
    "Before we can improve our system, we must first understand its current limitations. The first step is to load the transaction data, analyze the scale of the class imbalance, and build a baseline Logistic Regression model to quantify our current performance.\n",
    "\n",
    "#### 1. Data Loading and Analysis\n",
    "\n",
    "We begin by loading the necessary libraries and the `creditcard.csv` dataset."
   ]
  },
  {
   "cell_type": "code",
   "execution_count": 27,
   "id": "8650f274",
   "metadata": {},
   "outputs": [
    {
     "name": "stdout",
     "output_type": "stream",
     "text": [
      "Dataset Head:\n",
      "   Time        V1        V2        V3        V4        V5        V6        V7  \\\n",
      "0   0.0 -1.359807 -0.072781  2.536347  1.378155 -0.338321  0.462388  0.239599   \n",
      "1   0.0  1.191857  0.266151  0.166480  0.448154  0.060018 -0.082361 -0.078803   \n",
      "2   1.0 -1.358354 -1.340163  1.773209  0.379780 -0.503198  1.800499  0.791461   \n",
      "3   1.0 -0.966272 -0.185226  1.792993 -0.863291 -0.010309  1.247203  0.237609   \n",
      "4   2.0 -1.158233  0.877737  1.548718  0.403034 -0.407193  0.095921  0.592941   \n",
      "\n",
      "         V8        V9  ...       V21       V22       V23       V24       V25  \\\n",
      "0  0.098698  0.363787  ... -0.018307  0.277838 -0.110474  0.066928  0.128539   \n",
      "1  0.085102 -0.255425  ... -0.225775 -0.638672  0.101288 -0.339846  0.167170   \n",
      "2  0.247676 -1.514654  ...  0.247998  0.771679  0.909412 -0.689281 -0.327642   \n",
      "3  0.377436 -1.387024  ... -0.108300  0.005274 -0.190321 -1.175575  0.647376   \n",
      "4 -0.270533  0.817739  ... -0.009431  0.798278 -0.137458  0.141267 -0.206010   \n",
      "\n",
      "        V26       V27       V28  Amount  Class  \n",
      "0 -0.189115  0.133558 -0.021053  149.62      0  \n",
      "1  0.125895 -0.008983  0.014724    2.69      0  \n",
      "2 -0.139097 -0.055353 -0.059752  378.66      0  \n",
      "3 -0.221929  0.062723  0.061458  123.50      0  \n",
      "4  0.502292  0.219422  0.215153   69.99      0  \n",
      "\n",
      "[5 rows x 31 columns]\n",
      "\n",
      "Class Distribution:\n",
      "Class\n",
      "0    284315\n",
      "1       492\n",
      "Name: count, dtype: int64\n"
     ]
    }
   ],
   "source": [
    "# Import necessary libraries\n",
    "import pandas as pd\n",
    "import numpy as np\n",
    "import matplotlib.pyplot as plt\n",
    "import seaborn as sns\n",
    "from sklearn.model_selection import train_test_split\n",
    "from sklearn.preprocessing import StandardScaler\n",
    "from sklearn.linear_model import LogisticRegression\n",
    "from sklearn.mixture import GaussianMixture\n",
    "from imblearn.under_sampling import ClusterCentroids\n",
    "from sklearn.metrics import classification_report, confusion_matrix, precision_recall_curve, f1_score, roc_auc_score\n",
    "\n",
    "# Set plotting style for better aesthetics\n",
    "sns.set_style('whitegrid')\n",
    "plt.rcParams['figure.figsize'] = (10, 6)\n",
    "\n",
    "# Load the dataset\n",
    "df = pd.read_csv('creditcard.csv')\n",
    "\n",
    "# Display the first few rows\n",
    "print(\"Dataset Head:\")\n",
    "print(df.head())\n",
    "\n",
    "# Analyze class distribution\n",
    "class_counts = df['Class'].value_counts()\n",
    "print(\"\\nClass Distribution:\")\n",
    "print(class_counts)\n",
    "\n"
   ]
  },
  {
   "cell_type": "code",
   "execution_count": 28,
   "id": "42df3c64",
   "metadata": {},
   "outputs": [
    {
     "data": {
      "text/plain": [
       "([<matplotlib.patches.Wedge at 0x129ec8e10>,\n",
       "  <matplotlib.patches.Wedge at 0x129ec91d0>],\n",
       " [Text(-0.0065122141619102505, -1.199982329481026, 'Non Fradulent Cases(Class 0)'),\n",
       "  Text(0.005969695741350842, 1.0999838011228873, 'Fradulent Cases(Class 1)')],\n",
       " [Text(-0.003798791594447646, -0.6999896921972651, '99.8273%'),\n",
       "  Text(0.003256197677100459, 0.5999911642488476, '0.1727%')])"
      ]
     },
     "execution_count": 28,
     "metadata": {},
     "output_type": "execute_result"
    },
    {
     "data": {
      "image/png": "[encoded data removed]",
      "text/plain": [
       "<Figure size 800x600 with 1 Axes>"
      ]
     },
     "metadata": {},
     "output_type": "display_data"
    }
   ],
   "source": [
    "# Visualize the class imbalance\n",
    "plt.figure(figsize=(8, 6))\n",
    "plt.pie(class_counts, labels=['Non Fradulent Cases(Class 0)', 'Fradulent Cases(Class 1)'], autopct='%1.4f%%', \n",
    "        colors=['#2c3e50','#e74c3c'], startangle=90, explode=(0.1, 0),\n",
    "        textprops={'fontsize': 12, 'color': 'red'})"
   ]
  },
  {
   "cell_type": "markdown",
   "id": "65869222",
   "metadata": {},
   "source": [
    "**Discussion on Imbalance:**\n",
    "\n",
    "The analysis reveals a staggering level of class imbalance. Out of 284,807 transactions, only 492 are fraudulent. This means that fraudulent transactions constitute a minuscule **0.1727%** of the entire dataset. This is a classic \"needle in a haystack\" problem. A naive model can achieve over 99.8% accuracy simply by predicting \"not fraudulent\" for every single transaction, rendering it completely useless for its intended purpose."
   ]
  },
  {
   "cell_type": "markdown",
   "id": "15272576",
   "metadata": {},
   "source": [
    "### 2. Model Training: The Baseline\n",
    "\n",
    "We will now establish our baseline. We split the data into training and testing sets. Crucially, the test set must mirror the original, real-world imbalance to provide a realistic evaluation of our model's performance. The features `Time` and `Amount` are scaled, as they are not on the same scale as the PCA-transformed features."
   ]
  },
  {
   "cell_type": "code",
   "execution_count": 29,
   "id": "840f384b",
   "metadata": {},
   "outputs": [
    {
     "name": "stdout",
     "output_type": "stream",
     "text": [
      "Training set shape: (227845, 30)\n",
      "Test set shape: (56962, 30)\n",
      "\n",
      "Fraudulent transactions in training set: 394\n",
      "Fraudulent transactions in test set: 98\n",
      "\n",
      "Baseline Model training complete.\n"
     ]
    }
   ],
   "source": [
    "# Scale 'Amount' and 'Time' columns\n",
    "scaler = StandardScaler()\n",
    "df['scaled_amount'] = scaler.fit_transform(df['Amount'].values.reshape(-1, 1))\n",
    "df['scaled_time'] = scaler.fit_transform(df['Time'].values.reshape(-1, 1))\n",
    "df.drop(['Time', 'Amount'], axis=1, inplace=True)\n",
    "\n",
    "# Reorder columns to have 'Class' at the end\n",
    "df = df[[col for col in df if col != 'Class'] + ['Class']]\n",
    "\n",
    "# Define features (X) and target (y)\n",
    "X = df.drop('Class', axis=1)\n",
    "y = df['Class']\n",
    "\n",
    "# Split the dataset into training and testing sets (80/20 split)\n",
    "# We use stratify=y to ensure the test set has the same proportion of fraud cases as the original dataset\n",
    "X_train, X_test, y_train, y_test = train_test_split(X, y, test_size=0.2, random_state=42, stratify=y)\n",
    "\n",
    "print(\"Training set shape:\", X_train.shape)\n",
    "print(\"Test set shape:\", X_test.shape)\n",
    "print(\"\\nFraudulent transactions in training set:\", sum(y_train))\n",
    "print(\"Fraudulent transactions in test set:\", sum(y_test))\n",
    "\n",
    "# Train a Logistic Regression classifier on the imbalanced training data\n",
    "baseline_model = LogisticRegression(solver='liblinear', random_state=42)\n",
    "baseline_model.fit(X_train, y_train)\n",
    "\n",
    "print(\"\\nBaseline Model training complete.\")"
   ]
  },
  {
   "cell_type": "markdown",
   "id": "98dff4ce",
   "metadata": {},
   "source": [
    "### 3. Baseline Evaluation\n",
    "\n",
    "Now, we evaluate our baseline model on the untouched, imbalanced test set."
   ]
  },
  {
   "cell_type": "code",
   "execution_count": 30,
   "id": "b6c35c4e",
   "metadata": {},
   "outputs": [
    {
     "name": "stdout",
     "output_type": "stream",
     "text": [
      "--- Baseline Model Evaluation ---\n",
      "\n",
      "Confusion Matrix:\n",
      "[[56851    13]\n",
      " [   35    63]]\n",
      "\n",
      "Classification Report:\n",
      "               precision    recall  f1-score   support\n",
      "\n",
      "Non-Fraud (0)       1.00      1.00      1.00     56864\n",
      "    Fraud (1)       0.83      0.64      0.72        98\n",
      "\n",
      "     accuracy                           1.00     56962\n",
      "    macro avg       0.91      0.82      0.86     56962\n",
      " weighted avg       1.00      1.00      1.00     56962\n",
      "\n"
     ]
    },
    {
     "name": "stderr",
     "output_type": "stream",
     "text": [
      "/Users/saranathp/venv/lib/python3.13/site-packages/sklearn/utils/extmath.py:203: RuntimeWarning: divide by zero encountered in matmul\n",
      "  ret = a @ b\n",
      "/Users/saranathp/venv/lib/python3.13/site-packages/sklearn/utils/extmath.py:203: RuntimeWarning: overflow encountered in matmul\n",
      "  ret = a @ b\n",
      "/Users/saranathp/venv/lib/python3.13/site-packages/sklearn/utils/extmath.py:203: RuntimeWarning: invalid value encountered in matmul\n",
      "  ret = a @ b\n"
     ]
    }
   ],
   "source": [
    "# Predictions on the test set\n",
    "y_pred_baseline = baseline_model.predict(X_test)\n",
    "\n",
    "# Evaluation\n",
    "print(\"--- Baseline Model Evaluation ---\")\n",
    "print(\"\\nConfusion Matrix:\")\n",
    "print(confusion_matrix(y_test, y_pred_baseline))\n",
    "\n",
    "print(\"\\nClassification Report:\")\n",
    "print(classification_report(y_test, y_pred_baseline, target_names=['Non-Fraud (0)', 'Fraud (1)']))"
   ]
  },
  {
   "cell_type": "markdown",
   "id": "251f7089",
   "metadata": {},
   "source": [
    "**Why Precision, Recall, and F1-Score are More Informative:**\n",
    "\n",
    "*   **Accuracy is Misleading:** As predicted, our baseline model achieves ~100% accuracy. This is a vanity metric, as it's almost entirely driven by the model's correct classification of the overwhelming majority class (Non-Fraud). It tells us nothing about our primary goal: detecting fraud.\n",
    "*   **Precision (for Fraud Class):** This metric answers the question: \"Of all the transactions we flagged as fraudulent, what proportion were *actually* fraudulent?\" A high precision means we have a low false positive rate. For the business, this is crucial to avoid bothering legitimate customers with fraud alerts. Our baseline has a precision of 83%.\n",
    "*   **Recall (for Fraud Class):** This is arguably the most important metric for fraud detection. It answers: \"Of all the actual fraudulent transactions that occurred, what proportion did we successfully *catch*?\" A high recall means we have a low false negative rate, which is critical for minimizing financial losses. Our baseline model's recall is a mere 64%, meaning **we missed 36% of all fraudulent transactions**.\n",
    "*   **F1-Score:** This is the harmonic mean of Precision and Recall. It provides a single score that balances the two concerns. It's particularly useful when there's an uneven class distribution. Our baseline F1-score is 0.72.\n",
    "\n",
    "The baseline evaluation makes our problem crystal clear: we need to drastically improve our model's **Recall** without completely sacrificing **Precision**."
   ]
  },
  {
   "cell_type": "markdown",
   "id": "6405f863",
   "metadata": {},
   "source": [
    "## Part B: A Smarter Approach - Synthetic Data with Gaussian Mixture Models\n",
    "\n",
    "To improve recall, our model needs to learn the patterns of fraudulent transactions more effectively. The problem is that it has too few examples. The solution is to create high-quality synthetic data points. We will use a powerful probabilistic model, the Gaussian Mixture Model (GMM), for this task.\n",
    "\n",
    "### 1. Theoretical Foundation: GMM vs. SMOTE\n",
    "\n",
    "In our previous work (Assignment 3), we explored SMOTE. It's time to graduate to a more sophisticated method.\n",
    "\n",
    "**Fundamental Difference:**\n",
    "\n",
    "*   **SMOTE (Synthetic Minority Over-sampling Technique):** Works on a *local, geometric* level. It finds a minority class sample, identifies its k-nearest neighbors (from the same class), and then generates a new synthetic sample by interpolating along the line segment connecting the sample and one of its neighbors. It essentially \"fills in the gaps\" between existing minority points.\n",
    "\n",
    "*   **GMM (Gaussian Mixture Model):** Works on a *global, probabilistic* level. It is a generative model that assumes the entire minority class data can be modeled as a mixture of several Gaussian (normal) distributions. Instead of just connecting existing dots, it learns the underlying *probability distribution* of the entire class. It builds a rich, probabilistic \"blueprint\" of what a fraudulent transaction looks like.\n",
    "\n",
    "**Why is GMM Theoretically Better?**\n",
    "\n",
    "1.  **Capturing Complex Shapes:** Real-world data, especially something as complex as fraud, is rarely a simple, single cluster. Fraud might have multiple \"types\" or \"sub-groups\" (e.g., small-value online fraud, large-value physical card fraud). SMOTE's linear interpolation can struggle here, potentially creating samples in nonsensical, low-density regions between distinct clusters. GMM, by fitting multiple Gaussians, is explicitly designed to model this **multi-modality**. Each Gaussian component can represent a different sub-group of fraud.\n",
    "\n",
    "2.  **Generative Power:** GMM learns a true probability density function. When we sample from it, we are drawing a point from this learned distribution. This is more powerful than just interpolating between existing points. It can generate more diverse and novel samples that still conform to the overall structure of the data, potentially capturing nuances that SMOTE would miss.\n",
    "\n",
    "3.  **Reduced Risk of Noise:** Because SMOTE operates locally, if a minority sample is an outlier or noise, SMOTE will happily generate more synthetic samples around it, amplifying the noise. GMM, by modeling the global distribution, is more robust to individual outliers and is less likely to oversample in noisy regions."
   ]
  },
  {
   "cell_type": "markdown",
   "id": "d610a6b9",
   "metadata": {},
   "source": [
    "### 2. GMM Implementation: Finding the Right Blueprint\n",
    "\n",
    "We will now fit a GMM exclusively on the minority (fraudulent) class data from our training set. The most critical hyperparameter is the number of components (`k`), which represents the number of Gaussian distributions we believe make up the fraud data. We will use the **Akaike Information Criterion (AIC)** and **Bayesian Information Criterion (BIC)** to find the optimal `k`. Lower AIC/BIC values indicate a better model fit, penalizing for complexity."
   ]
  },
  {
   "cell_type": "code",
   "execution_count": null,
   "id": "846c8a58",
   "metadata": {},
   "outputs": [
    {
     "name": "stdout",
     "output_type": "stream",
     "text": [
      "Fitting GMM on 394 minority samples.\n",
      "19\n",
      "\n",
      "Optimal k based on BIC (minimum score): 3\n",
      "Optimal k based on AIC (minimum score): 19\n",
      "--- Selected optimal_k = 3 for the final model ---\n"
     ]
    },
    {
     "name": "stderr",
     "output_type": "stream",
     "text": [
      "/Users/saranathp/venv/lib/python3.13/site-packages/sklearn/utils/extmath.py:203: RuntimeWarning: divide by zero encountered in matmul\n",
      "  ret = a @ b\n",
      "/Users/saranathp/venv/lib/python3.13/site-packages/sklearn/utils/extmath.py:203: RuntimeWarning: overflow encountered in matmul\n",
      "  ret = a @ b\n",
      "/Users/saranathp/venv/lib/python3.13/site-packages/sklearn/utils/extmath.py:203: RuntimeWarning: invalid value encountered in matmul\n",
      "  ret = a @ b\n",
      "/Users/saranathp/venv/lib/python3.13/site-packages/sklearn/utils/extmath.py:203: RuntimeWarning: divide by zero encountered in matmul\n",
      "  ret = a @ b\n",
      "/Users/saranathp/venv/lib/python3.13/site-packages/sklearn/utils/extmath.py:203: RuntimeWarning: overflow encountered in matmul\n",
      "  ret = a @ b\n",
      "/Users/saranathp/venv/lib/python3.13/site-packages/sklearn/utils/extmath.py:203: RuntimeWarning: invalid value encountered in matmul\n",
      "  ret = a @ b\n",
      "/Users/saranathp/venv/lib/python3.13/site-packages/sklearn/utils/extmath.py:203: RuntimeWarning: divide by zero encountered in matmul\n",
      "  ret = a @ b\n",
      "/Users/saranathp/venv/lib/python3.13/site-packages/sklearn/utils/extmath.py:203: RuntimeWarning: overflow encountered in matmul\n",
      "  ret = a @ b\n",
      "/Users/saranathp/venv/lib/python3.13/site-packages/sklearn/utils/extmath.py:203: RuntimeWarning: invalid value encountered in matmul\n",
      "  ret = a @ b\n",
      "/Users/saranathp/venv/lib/python3.13/site-packages/sklearn/utils/extmath.py:203: RuntimeWarning: divide by zero encountered in matmul\n",
      "  ret = a @ b\n",
      "/Users/saranathp/venv/lib/python3.13/site-packages/sklearn/utils/extmath.py:203: RuntimeWarning: overflow encountered in matmul\n",
      "  ret = a @ b\n",
      "/Users/saranathp/venv/lib/python3.13/site-packages/sklearn/utils/extmath.py:203: RuntimeWarning: invalid value encountered in matmul\n",
      "  ret = a @ b\n",
      "/Users/saranathp/venv/lib/python3.13/site-packages/sklearn/utils/extmath.py:203: RuntimeWarning: divide by zero encountered in matmul\n",
      "  ret = a @ b\n",
      "/Users/saranathp/venv/lib/python3.13/site-packages/sklearn/utils/extmath.py:203: RuntimeWarning: overflow encountered in matmul\n",
      "  ret = a @ b\n",
      "/Users/saranathp/venv/lib/python3.13/site-packages/sklearn/utils/extmath.py:203: RuntimeWarning: invalid value encountered in matmul\n",
      "  ret = a @ b\n",
      "/Users/saranathp/venv/lib/python3.13/site-packages/sklearn/utils/extmath.py:203: RuntimeWarning: divide by zero encountered in matmul\n",
      "  ret = a @ b\n",
      "/Users/saranathp/venv/lib/python3.13/site-packages/sklearn/utils/extmath.py:203: RuntimeWarning: overflow encountered in matmul\n",
      "  ret = a @ b\n",
      "/Users/saranathp/venv/lib/python3.13/site-packages/sklearn/utils/extmath.py:203: RuntimeWarning: invalid value encountered in matmul\n",
      "  ret = a @ b\n",
      "/Users/saranathp/venv/lib/python3.13/site-packages/sklearn/utils/extmath.py:203: RuntimeWarning: divide by zero encountered in matmul\n",
      "  ret = a @ b\n",
      "/Users/saranathp/venv/lib/python3.13/site-packages/sklearn/utils/extmath.py:203: RuntimeWarning: overflow encountered in matmul\n",
      "  ret = a @ b\n",
      "/Users/saranathp/venv/lib/python3.13/site-packages/sklearn/utils/extmath.py:203: RuntimeWarning: invalid value encountered in matmul\n",
      "  ret = a @ b\n",
      "/Users/saranathp/venv/lib/python3.13/site-packages/sklearn/utils/extmath.py:203: RuntimeWarning: divide by zero encountered in matmul\n",
      "  ret = a @ b\n",
      "/Users/saranathp/venv/lib/python3.13/site-packages/sklearn/utils/extmath.py:203: RuntimeWarning: overflow encountered in matmul\n",
      "  ret = a @ b\n",
      "/Users/saranathp/venv/lib/python3.13/site-packages/sklearn/utils/extmath.py:203: RuntimeWarning: invalid value encountered in matmul\n",
      "  ret = a @ b\n",
      "/Users/saranathp/venv/lib/python3.13/site-packages/sklearn/utils/extmath.py:203: RuntimeWarning: divide by zero encountered in matmul\n",
      "  ret = a @ b\n",
      "/Users/saranathp/venv/lib/python3.13/site-packages/sklearn/utils/extmath.py:203: RuntimeWarning: overflow encountered in matmul\n",
      "  ret = a @ b\n",
      "/Users/saranathp/venv/lib/python3.13/site-packages/sklearn/utils/extmath.py:203: RuntimeWarning: invalid value encountered in matmul\n",
      "  ret = a @ b\n",
      "/Users/saranathp/venv/lib/python3.13/site-packages/sklearn/utils/extmath.py:203: RuntimeWarning: divide by zero encountered in matmul\n",
      "  ret = a @ b\n",
      "/Users/saranathp/venv/lib/python3.13/site-packages/sklearn/utils/extmath.py:203: RuntimeWarning: overflow encountered in matmul\n",
      "  ret = a @ b\n",
      "/Users/saranathp/venv/lib/python3.13/site-packages/sklearn/utils/extmath.py:203: RuntimeWarning: invalid value encountered in matmul\n",
      "  ret = a @ b\n",
      "/Users/saranathp/venv/lib/python3.13/site-packages/sklearn/utils/extmath.py:203: RuntimeWarning: divide by zero encountered in matmul\n",
      "  ret = a @ b\n",
      "/Users/saranathp/venv/lib/python3.13/site-packages/sklearn/utils/extmath.py:203: RuntimeWarning: overflow encountered in matmul\n",
      "  ret = a @ b\n",
      "/Users/saranathp/venv/lib/python3.13/site-packages/sklearn/utils/extmath.py:203: RuntimeWarning: invalid value encountered in matmul\n",
      "  ret = a @ b\n",
      "/Users/saranathp/venv/lib/python3.13/site-packages/sklearn/utils/extmath.py:203: RuntimeWarning: divide by zero encountered in matmul\n",
      "  ret = a @ b\n",
      "/Users/saranathp/venv/lib/python3.13/site-packages/sklearn/utils/extmath.py:203: RuntimeWarning: overflow encountered in matmul\n",
      "  ret = a @ b\n",
      "/Users/saranathp/venv/lib/python3.13/site-packages/sklearn/utils/extmath.py:203: RuntimeWarning: invalid value encountered in matmul\n",
      "  ret = a @ b\n",
      "/Users/saranathp/venv/lib/python3.13/site-packages/sklearn/utils/extmath.py:203: RuntimeWarning: divide by zero encountered in matmul\n",
      "  ret = a @ b\n",
      "/Users/saranathp/venv/lib/python3.13/site-packages/sklearn/utils/extmath.py:203: RuntimeWarning: overflow encountered in matmul\n",
      "  ret = a @ b\n",
      "/Users/saranathp/venv/lib/python3.13/site-packages/sklearn/utils/extmath.py:203: RuntimeWarning: invalid value encountered in matmul\n",
      "  ret = a @ b\n",
      "/Users/saranathp/venv/lib/python3.13/site-packages/sklearn/utils/extmath.py:203: RuntimeWarning: divide by zero encountered in matmul\n",
      "  ret = a @ b\n",
      "/Users/saranathp/venv/lib/python3.13/site-packages/sklearn/utils/extmath.py:203: RuntimeWarning: overflow encountered in matmul\n",
      "  ret = a @ b\n",
      "/Users/saranathp/venv/lib/python3.13/site-packages/sklearn/utils/extmath.py:203: RuntimeWarning: invalid value encountered in matmul\n",
      "  ret = a @ b\n",
      "/Users/saranathp/venv/lib/python3.13/site-packages/sklearn/utils/extmath.py:203: RuntimeWarning: divide by zero encountered in matmul\n",
      "  ret = a @ b\n",
      "/Users/saranathp/venv/lib/python3.13/site-packages/sklearn/utils/extmath.py:203: RuntimeWarning: overflow encountered in matmul\n",
      "  ret = a @ b\n",
      "/Users/saranathp/venv/lib/python3.13/site-packages/sklearn/utils/extmath.py:203: RuntimeWarning: invalid value encountered in matmul\n",
      "  ret = a @ b\n",
      "/Users/saranathp/venv/lib/python3.13/site-packages/sklearn/utils/extmath.py:203: RuntimeWarning: divide by zero encountered in matmul\n",
      "  ret = a @ b\n",
      "/Users/saranathp/venv/lib/python3.13/site-packages/sklearn/utils/extmath.py:203: RuntimeWarning: overflow encountered in matmul\n",
      "  ret = a @ b\n",
      "/Users/saranathp/venv/lib/python3.13/site-packages/sklearn/utils/extmath.py:203: RuntimeWarning: invalid value encountered in matmul\n",
      "  ret = a @ b\n",
      "/Users/saranathp/venv/lib/python3.13/site-packages/sklearn/utils/extmath.py:203: RuntimeWarning: divide by zero encountered in matmul\n",
      "  ret = a @ b\n",
      "/Users/saranathp/venv/lib/python3.13/site-packages/sklearn/utils/extmath.py:203: RuntimeWarning: overflow encountered in matmul\n",
      "  ret = a @ b\n",
      "/Users/saranathp/venv/lib/python3.13/site-packages/sklearn/utils/extmath.py:203: RuntimeWarning: invalid value encountered in matmul\n",
      "  ret = a @ b\n",
      "/Users/saranathp/venv/lib/python3.13/site-packages/sklearn/utils/extmath.py:203: RuntimeWarning: divide by zero encountered in matmul\n",
      "  ret = a @ b\n",
      "/Users/saranathp/venv/lib/python3.13/site-packages/sklearn/utils/extmath.py:203: RuntimeWarning: overflow encountered in matmul\n",
      "  ret = a @ b\n",
      "/Users/saranathp/venv/lib/python3.13/site-packages/sklearn/utils/extmath.py:203: RuntimeWarning: invalid value encountered in matmul\n",
      "  ret = a @ b\n",
      "/Users/saranathp/venv/lib/python3.13/site-packages/sklearn/utils/extmath.py:203: RuntimeWarning: divide by zero encountered in matmul\n",
      "  ret = a @ b\n",
      "/Users/saranathp/venv/lib/python3.13/site-packages/sklearn/utils/extmath.py:203: RuntimeWarning: overflow encountered in matmul\n",
      "  ret = a @ b\n",
      "/Users/saranathp/venv/lib/python3.13/site-packages/sklearn/utils/extmath.py:203: RuntimeWarning: invalid value encountered in matmul\n",
      "  ret = a @ b\n",
      "/Users/saranathp/venv/lib/python3.13/site-packages/sklearn/utils/extmath.py:203: RuntimeWarning: divide by zero encountered in matmul\n",
      "  ret = a @ b\n",
      "/Users/saranathp/venv/lib/python3.13/site-packages/sklearn/utils/extmath.py:203: RuntimeWarning: overflow encountered in matmul\n",
      "  ret = a @ b\n",
      "/Users/saranathp/venv/lib/python3.13/site-packages/sklearn/utils/extmath.py:203: RuntimeWarning: invalid value encountered in matmul\n",
      "  ret = a @ b\n"
     ]
    },
    {
     "data": {
      "image/png": "[encoded data removed]",
      "text/plain": [
       "<Figure size 1200x600 with 1 Axes>"
      ]
     },
     "metadata": {},
     "output_type": "display_data"
    }
   ],
   "source": [
    "\n",
    "X_train_minority = X_train[y_train == 1]\n",
    "\n",
    "print(f\"Fitting GMM on {len(X_train_minority)} minority samples.\")\n",
    "\n",
    "\n",
    "n_components = np.arange(1, 21)\n",
    "models = [GaussianMixture(n, covariance_type='full', random_state=42).fit(X_train_minority) for n in n_components]\n",
    "\n",
    "\n",
    "bic_scores = [m.bic(X_train_minority) for m in models]\n",
    "aic_scores = [m.aic(X_train_minority) for m in models]\n",
    "\n",
    "\n",
    "optimal_k_bic = n_components[np.argmin(bic_scores)]\n",
    "\n",
    "optimal_k_aic = n_components[np.argmin(aic_scores)]\n",
    "\n",
    "print(optimal_k_aic)\n",
    "\n",
    "print(f\"\\nOptimal k based on BIC (minimum score): {optimal_k_bic}\")\n",
    "print(f\"Optimal k based on AIC (minimum score): {optimal_k_aic}\")\n",
    "\n",
    "optimal_k = optimal_k_bic\n",
    "print(f\"--- Selected optimal_k = {optimal_k} for the final model ---\")\n",
    "\n",
    "# Plot AIC and BIC\n",
    "plt.figure(figsize=(12, 6))\n",
    "plt.plot(n_components, bic_scores, label='BIC', marker='o')\n",
    "plt.plot(n_components, aic_scores, label='AIC', marker='o')\n",
    "\n",
    "\n",
    "\n",
    "\n",
    "plt.title('GMM AIC and BIC for Optimal Number of Components')\n",
    "plt.xlabel('Number of components (k)')\n",
    "plt.ylabel('Information Criterion Score (Lower is Better)')\n",
    "plt.xticks(n_components)\n",
    "plt.legend(shadow=True)\n",
    "plt.show()"
   ]
  },
  {
   "cell_type": "markdown",
   "id": "0f7335a4",
   "metadata": {},
   "source": [
    "**Justifying the Choice of `k`:**\n",
    "\n",
    "The plot shows the AIC and BIC values for different numbers of components. Both criteria aim to find a balance between model fit and model complexity.\n",
    "\n",
    "*   The **BIC** curve shows a distinct \"elbow\" or minimum around **k=3**, after which the score starts to plateau or even increase. A lower BIC is better, and BIC's heavier penalty for complexity makes it a robust choice.\n",
    "*   The **AIC** curve continues to decrease, but the rate of decrease slows significantly after k=3.\n",
    "\n",
    "Based on this analysis, **`k=3` appears to be the optimal number of components**. This suggests that our fraudulent transaction data can be effectively modeled as a mixture of 3 distinct sub-groups or clusters. We will proceed by fitting our final GMM with `n_components=3`."
   ]
  },
  {
   "cell_type": "markdown",
   "id": "68f0ccf9",
   "metadata": {},
   "source": [
    "### The Role of AIC and BIC in GMMs\n",
    "\n",
    "Both *AIC* (Akaike Information Criterion) and *BIC* (Bayesian Information Criterion) are information criteria that provide a way to select the best model from a set of candidate models. In the context of Gaussian Mixture Models (GMMs), a \"candidate model\" is a GMM with a specific number of components. By fitting GMMs with a different number of components and calculating their respective AIC and BIC scores, we can choose the model with the lowest score as the most suitable one.\n",
    "\n",
    "The core idea behind both criteria is to penalize models with a larger number of parameters. This penalty for complexity helps to prevent *overfitting*.\n",
    "\n",
    "### The Formulas and Their Components\n",
    "\n",
    "The general formulas for AIC and BIC are as follows:\n",
    "\n",
    "#### Akaike Information Criterion (AIC)\n",
    "$$AIC = 2k - 2\\ln(\\hat{L})$$\n",
    "\n",
    "#### Bayesian Information Criterion (BIC)\n",
    "$$BIC = k\\ln(n) - 2\\ln(\\hat{L})$$\n",
    "\n",
    "Where:\n",
    "\n",
    "- ⁠$k$ is the number of free parameters in the model.\n",
    "- ⁠$n$ is the number of data points.\n",
    "- ⁠$\\hat{L}$ is the maximized value of the likelihood function for the model. The likelihood function measures how well the GMM, with its estimated parameters, explains the observed data. A higher likelihood indicates a better fit.\n",
    "\n",
    "The term $-2\\ln(\\hat{L})$ represents the *goodness of fit* of the model. A lower value for this term indicates a better fit to the data. The first term in both equations, $2k$ for AIC and $k\\ln(n)$ for BIC, is the *penalty for model complexity*."
   ]
  },
  {
   "cell_type": "code",
   "execution_count": 32,
   "id": "28fb658e",
   "metadata": {},
   "outputs": [
    {
     "name": "stdout",
     "output_type": "stream",
     "text": [
      "Final GMM fitted with 3 components.\n"
     ]
    },
    {
     "name": "stderr",
     "output_type": "stream",
     "text": [
      "/Users/saranathp/venv/lib/python3.13/site-packages/sklearn/utils/extmath.py:203: RuntimeWarning: divide by zero encountered in matmul\n",
      "  ret = a @ b\n",
      "/Users/saranathp/venv/lib/python3.13/site-packages/sklearn/utils/extmath.py:203: RuntimeWarning: overflow encountered in matmul\n",
      "  ret = a @ b\n",
      "/Users/saranathp/venv/lib/python3.13/site-packages/sklearn/utils/extmath.py:203: RuntimeWarning: invalid value encountered in matmul\n",
      "  ret = a @ b\n"
     ]
    }
   ],
   "source": [
    "# Fit the final GMM with the chosen number of components\n",
    "# optimal_k = 3\n",
    "optimal_k = optimal_k_bic\n",
    "gmm = GaussianMixture(n_components=optimal_k, covariance_type='full', random_state=42)\n",
    "gmm.fit(X_train_minority)\n",
    "\n",
    "print(f\"Final GMM fitted with {optimal_k} components.\")"
   ]
  },
  {
   "cell_type": "markdown",
   "id": "f1e97544",
   "metadata": {},
   "source": [
    "### 3. Synthetic Data Generation: A Pure Oversampling Approach\n",
    "\n",
    "Now we will use our trained GMM to generate synthetic samples. The process of sampling from a GMM involves two steps:\n",
    "1.  **Select a Gaussian Component:** First, a component (one of the `k` Gaussian distributions) is chosen based on its mixture weight (the `gmm.weights_` attribute). A component with a higher weight is more likely to be selected.\n",
    "2.  **Sample from the Component:** Once a component is selected, a new data point is randomly drawn from that specific multivariate Gaussian distribution, which is defined by its own mean (`gmm.means_`) and covariance matrix (`gmm.covariances_`).\n",
    "\n",
    "We will generate enough new minority samples to achieve a 1:1 balance with the majority class in our training set."
   ]
  },
  {
   "cell_type": "code",
   "execution_count": 33,
   "id": "9cdbc206",
   "metadata": {},
   "outputs": [
    {
     "name": "stdout",
     "output_type": "stream",
     "text": [
      "Original Majority Count: 227451\n",
      "Original Minority Count: 394\n",
      "Number of synthetic samples to generate: 227057\n",
      "\n",
      "New class distribution after GMM Oversampling:\n",
      "0    227451\n",
      "1    227451\n",
      "Name: count, dtype: int64\n"
     ]
    }
   ],
   "source": [
    "# Determine how many samples to generate\n",
    "n_majority = y_train.value_counts()[0]\n",
    "n_minority = y_train.value_counts()[1]\n",
    "n_samples_to_generate = n_majority - n_minority\n",
    "\n",
    "print(f\"Original Majority Count: {n_majority}\")\n",
    "print(f\"Original Minority Count: {n_minority}\")\n",
    "print(f\"Number of synthetic samples to generate: {n_samples_to_generate}\")\n",
    "\n",
    "# Generate synthetic samples\n",
    "# The .sample() method returns a tuple (samples, cluster_labels), we only need the samples\n",
    "X_synthetic, y_synthetic_labels = gmm.sample(n_samples_to_generate)\n",
    "# We need to create the actual class labels (all will be 1 for fraud)\n",
    "y_synthetic = pd.Series(np.ones(n_samples_to_generate, dtype=int))\n",
    "\n",
    "# Convert synthetic data to DataFrame with correct column names\n",
    "X_synthetic_df = pd.DataFrame(X_synthetic, columns=X_train.columns)\n",
    "\n",
    "# Combine with original training data to create the GMM-balanced dataset\n",
    "X_train_gmm = pd.concat([X_train, X_synthetic_df], ignore_index=True)\n",
    "y_train_gmm = pd.concat([y_train, y_synthetic], ignore_index=True)\n",
    "\n",
    "# Check the new class distribution\n",
    "print(\"\\nNew class distribution after GMM Oversampling:\")\n",
    "print(y_train_gmm.value_counts())"
   ]
  },
  {
   "cell_type": "markdown",
   "id": "7408dbba",
   "metadata": {},
   "source": [
    "### 4. Rebalancing with CBU: A Hybrid Strategy\n",
    "\n",
    "A potential downside of pure oversampling is that it creates a very large training dataset, which can increase training time. A sophisticated hybrid approach combines **undersampling the majority class** with **oversampling the minority class**. We will use Clustering-Based Undersampling (CBU) to intelligently reduce the majority class while preserving its underlying structure, and then use our GMM to oversample the minority class to match this new, smaller majority count."
   ]
  },
  {
   "cell_type": "code",
   "execution_count": null,
   "id": "17c54624",
   "metadata": {},
   "outputs": [
    {
     "name": "stdout",
     "output_type": "stream",
     "text": [
      "Undersampling majority class from 227451 to 1182 instances.\n"
     ]
    },
    {
     "name": "stderr",
     "output_type": "stream",
     "text": [
      "/Users/saranathp/venv/lib/python3.13/site-packages/sklearn/utils/extmath.py:203: RuntimeWarning: divide by zero encountered in matmul\n",
      "  ret = a @ b\n",
      "/Users/saranathp/venv/lib/python3.13/site-packages/sklearn/utils/extmath.py:203: RuntimeWarning: overflow encountered in matmul\n",
      "  ret = a @ b\n",
      "/Users/saranathp/venv/lib/python3.13/site-packages/sklearn/utils/extmath.py:203: RuntimeWarning: invalid value encountered in matmul\n",
      "  ret = a @ b\n",
      "/Users/saranathp/venv/lib/python3.13/site-packages/sklearn/cluster/_kmeans.py:237: RuntimeWarning: divide by zero encountered in matmul\n",
      "  current_pot = closest_dist_sq @ sample_weight\n",
      "/Users/saranathp/venv/lib/python3.13/site-packages/sklearn/cluster/_kmeans.py:237: RuntimeWarning: overflow encountered in matmul\n",
      "  current_pot = closest_dist_sq @ sample_weight\n",
      "/Users/saranathp/venv/lib/python3.13/site-packages/sklearn/cluster/_kmeans.py:237: RuntimeWarning: invalid value encountered in matmul\n",
      "  current_pot = closest_dist_sq @ sample_weight\n",
      "/Users/saranathp/venv/lib/python3.13/site-packages/sklearn/cluster/_kmeans.py:257: RuntimeWarning: divide by zero encountered in matmul\n",
      "  candidates_pot = distance_to_candidates @ sample_weight.reshape(-1, 1)\n",
      "/Users/saranathp/venv/lib/python3.13/site-packages/sklearn/cluster/_kmeans.py:257: RuntimeWarning: overflow encountered in matmul\n",
      "  candidates_pot = distance_to_candidates @ sample_weight.reshape(-1, 1)\n",
      "/Users/saranathp/venv/lib/python3.13/site-packages/sklearn/cluster/_kmeans.py:257: RuntimeWarning: invalid value encountered in matmul\n",
      "  candidates_pot = distance_to_candidates @ sample_weight.reshape(-1, 1)\n"
     ]
    },
    {
     "name": "stdout",
     "output_type": "stream",
     "text": [
      "\n",
      "Class distribution after CBU:\n",
      "Class\n",
      "0    1182\n",
      "1     394\n",
      "Name: count, dtype: int64\n",
      "\n",
      "Generating 788 synthetic samples to match the undersampled majority.\n",
      "\n",
      "Final class distribution after Hybrid GMM + CBU method:\n",
      "0    1182\n",
      "1    1182\n",
      "Name: count, dtype: int64\n"
     ]
    }
   ],
   "source": [
    "p = 3\n",
    "target_majority_count = n_minority * p\n",
    "print(f\"Undersampling majority class from {n_majority} to {target_majority_count} instances.\")\n",
    "\n",
    "\n",
    "cbu = ClusterCentroids(sampling_strategy={0: target_majority_count}, random_state=42)\n",
    "X_train_cbu, y_train_cbu = cbu.fit_resample(X_train, y_train)\n",
    "\n",
    "print(\"\\nClass distribution after CBU:\")\n",
    "print(pd.Series(y_train_cbu).value_counts())\n",
    "\n",
    "\n",
    "n_samples_hybrid = target_majority_count - n_minority\n",
    "print(f\"\\nGenerating {n_samples_hybrid} synthetic samples to match the undersampled majority.\")\n",
    "\n",
    "X_synthetic_hybrid, _ = gmm.sample(n_samples_hybrid)\n",
    "y_synthetic_hybrid = np.ones(n_samples_hybrid, dtype=int)\n",
    "\n",
    "\n",
    "X_synthetic_hybrid_df = pd.DataFrame(X_synthetic_hybrid, columns=X_train.columns)\n",
    "y_synthetic_hybrid_s = pd.Series(y_synthetic_hybrid)\n",
    "\n",
    "\n",
    "X_train_hybrid = pd.concat([pd.DataFrame(X_train_cbu, columns=X_train.columns), X_synthetic_hybrid_df], ignore_index=True)\n",
    "y_train_hybrid = pd.concat([pd.Series(y_train_cbu), y_synthetic_hybrid_s], ignore_index=True)\n",
    "\n",
    "print(\"\\nFinal class distribution after Hybrid GMM + CBU method:\")\n",
    "print(y_train_hybrid.value_counts())"
   ]
  },
  {
   "cell_type": "markdown",
   "id": "6c632fd1",
   "metadata": {},
   "source": [
    "## Part C: The Verdict - Performance Showdown\n",
    "\n",
    "We have now created three training datasets:\n",
    "1.  **Original Imbalanced Data**\n",
    "2.  **GMM-Oversampled Data (GMM-OS)**\n",
    "3.  **Hybrid CBU + GMM-OS Data**\n",
    "\n",
    "We will train a Logistic Regression model on each of the two new datasets and evaluate all three models on the **same original, imbalanced test set** to ensure a fair comparison."
   ]
  },
  {
   "cell_type": "markdown",
   "id": "1019e9db",
   "metadata": {},
   "source": [
    "### 1. Model Training and Evaluation"
   ]
  },
  {
   "cell_type": "code",
   "execution_count": 35,
   "id": "639dd662",
   "metadata": {},
   "outputs": [
    {
     "name": "stdout",
     "output_type": "stream",
     "text": [
      "--- GMM-Oversampled Model Evaluation ---\n",
      "\n",
      "Classification Report:\n",
      "               precision    recall  f1-score   support\n",
      "\n",
      "Non-Fraud (0)       1.00      0.98      0.99     56864\n",
      "    Fraud (1)       0.08      0.91      0.15        98\n",
      "\n",
      "     accuracy                           0.98     56962\n",
      "    macro avg       0.54      0.95      0.57     56962\n",
      " weighted avg       1.00      0.98      0.99     56962\n",
      "\n",
      "\n",
      "--- Hybrid (CBU + GMM) Model Evaluation ---\n",
      "\n",
      "Classification Report:\n",
      "               precision    recall  f1-score   support\n",
      "\n",
      "Non-Fraud (0)       1.00      0.97      0.98     56864\n",
      "    Fraud (1)       0.05      0.89      0.09        98\n",
      "\n",
      "     accuracy                           0.97     56962\n",
      "    macro avg       0.52      0.93      0.54     56962\n",
      " weighted avg       1.00      0.97      0.98     56962\n",
      "\n"
     ]
    },
    {
     "name": "stderr",
     "output_type": "stream",
     "text": [
      "/Users/saranathp/venv/lib/python3.13/site-packages/sklearn/utils/extmath.py:203: RuntimeWarning: divide by zero encountered in matmul\n",
      "  ret = a @ b\n",
      "/Users/saranathp/venv/lib/python3.13/site-packages/sklearn/utils/extmath.py:203: RuntimeWarning: overflow encountered in matmul\n",
      "  ret = a @ b\n",
      "/Users/saranathp/venv/lib/python3.13/site-packages/sklearn/utils/extmath.py:203: RuntimeWarning: invalid value encountered in matmul\n",
      "  ret = a @ b\n",
      "/Users/saranathp/venv/lib/python3.13/site-packages/sklearn/utils/extmath.py:203: RuntimeWarning: divide by zero encountered in matmul\n",
      "  ret = a @ b\n",
      "/Users/saranathp/venv/lib/python3.13/site-packages/sklearn/utils/extmath.py:203: RuntimeWarning: overflow encountered in matmul\n",
      "  ret = a @ b\n",
      "/Users/saranathp/venv/lib/python3.13/site-packages/sklearn/utils/extmath.py:203: RuntimeWarning: invalid value encountered in matmul\n",
      "  ret = a @ b\n"
     ]
    }
   ],
   "source": [
    "# Model 2: Trained on GMM-Oversampled data\n",
    "model_gmm = LogisticRegression(solver='liblinear', random_state=42)\n",
    "model_gmm.fit(X_train_gmm, y_train_gmm)\n",
    "y_pred_gmm = model_gmm.predict(X_test)\n",
    "\n",
    "print(\"--- GMM-Oversampled Model Evaluation ---\")\n",
    "print(\"\\nClassification Report:\")\n",
    "print(classification_report(y_test, y_pred_gmm, target_names=['Non-Fraud (0)', 'Fraud (1)']))\n",
    "\n",
    "# Model 3: Trained on Hybrid (CBU + GMM) data\n",
    "model_hybrid = LogisticRegression(solver='liblinear', random_state=42)\n",
    "model_hybrid.fit(X_train_hybrid, y_train_hybrid)\n",
    "y_pred_hybrid = model_hybrid.predict(X_test)\n",
    "\n",
    "print(\"\\n--- Hybrid (CBU + GMM) Model Evaluation ---\")\n",
    "print(\"\\nClassification Report:\")\n",
    "print(classification_report(y_test, y_pred_hybrid, target_names=['Non-Fraud (0)', 'Fraud (1)']))"
   ]
  },
  {
   "cell_type": "markdown",
   "id": "51c80369",
   "metadata": {},
   "source": [
    "### 2. Comparative Analysis\n",
    "\n",
    "Let's consolidate the performance metrics for the fraud class (Class 1) into a clear summary table and visualization."
   ]
  },
  {
   "cell_type": "code",
   "execution_count": 36,
   "id": "cdf31332",
   "metadata": {},
   "outputs": [
    {
     "name": "stdout",
     "output_type": "stream",
     "text": [
      "--- Performance Comparison Summary (Fraud Class) ---\n",
      "              Model  Precision  Recall  F1-Score\n",
      "0          Baseline      0.829   0.643     0.724\n",
      "1  GMM-Oversampling      0.083   0.908     0.153\n",
      "2  Hybrid (CBU+GMM)      0.045   0.888     0.086\n"
     ]
    },
    {
     "data": {
      "image/png": "[encoded data removed]",
      "text/plain": [
       "<Figure size 1400x700 with 1 Axes>"
      ]
     },
     "metadata": {},
     "output_type": "display_data"
    }
   ],
   "source": [
    "# Create a summary DataFrame\n",
    "metrics = {\n",
    "    'Model': ['Baseline', 'GMM-Oversampling', 'Hybrid (CBU+GMM)'],\n",
    "    'Precision': [\n",
    "        float(classification_report(y_test, y_pred_baseline, output_dict=True)['1']['precision']),\n",
    "        float(classification_report(y_test, y_pred_gmm, output_dict=True)['1']['precision']),\n",
    "        float(classification_report(y_test, y_pred_hybrid, output_dict=True)['1']['precision'])\n",
    "    ],\n",
    "    'Recall': [\n",
    "        float(classification_report(y_test, y_pred_baseline, output_dict=True)['1']['recall']),\n",
    "        float(classification_report(y_test, y_pred_gmm, output_dict=True)['1']['recall']),\n",
    "        float(classification_report(y_test, y_pred_hybrid, output_dict=True)['1']['recall'])\n",
    "    ],\n",
    "    'F1-Score': [\n",
    "        float(classification_report(y_test, y_pred_baseline, output_dict=True)['1']['f1-score']),\n",
    "        float(classification_report(y_test, y_pred_gmm, output_dict=True)['1']['f1-score']),\n",
    "        float(classification_report(y_test, y_pred_hybrid, output_dict=True)['1']['f1-score'])\n",
    "    ]\n",
    "}\n",
    "\n",
    "results_df = pd.DataFrame(metrics)\n",
    "print(\"--- Performance Comparison Summary (Fraud Class) ---\")\n",
    "print(results_df.round(3))\n",
    "\n",
    "# Visualize the comparison\n",
    "results_df.set_index('Model').plot(kind='bar', figsize=(14, 7))\n",
    "plt.title('Model Performance Comparison for Fraud Detection')\n",
    "plt.ylabel('Score')\n",
    "plt.xticks(rotation=0)\n",
    "plt.ylim(0, 1.0)\n",
    "plt.legend(loc='lower right')\n",
    "\n",
    "# Adding annotations to the bars\n",
    "ax = plt.gca()\n",
    "for p in ax.patches:\n",
    "    ax.annotate(f'{p.get_height():.2f}', (p.get_x() + p.get_width() / 2., p.get_height()),\n",
    "                ha='center', va='center', xytext=(0, 10), textcoords='offset points')\n",
    "plt.show()"
   ]
  },
  {
   "cell_type": "markdown",
   "id": "93b458db",
   "metadata": {},
   "source": [
    "**Discussion of Impact:**\n",
    "\n",
    "The results from our GMM-based sampling strategies represent a monumental shift in our fraud detection capabilities. The impact, when analyzed through the lens of our business priorities, is overwhelmingly positive.\n",
    "\n",
    "*   **Impact on Recall (The Primary Goal):** The effect on our model's ability to identify fraud is dramatic. The **GMM-Oversampling model boosted Recall from a mediocre 64.3% to an excellent 90.8%**. The Hybrid model achieved a similarly impressive 88.8%. This means we have transitioned from a system that misses more than one-third of all fraudulent transactions to one that successfully **captures approximately 9 out of every 10**. This is a transformative improvement that will directly prevent significant financial losses.\n",
    "\n",
    "*   **The Precision/Recall Trade-off (The Operational Cost):** This substantial gain in fraud detection came at a steep, but expected, cost to Precision. The baseline model was very precise (82.9%), meaning when it flagged a transaction, it was usually correct. The new models are far less precise (8.3% for GMM-Oversampling and a mere 4.5% for the Hybrid approach). In practical terms, this will lead to a higher number of false positives—legitimate transactions being flagged for review. This increases the operational workload for our fraud analysis team.\n",
    "\n",
    "*   **Interpreting the F1-Score (Understanding the Business Context):** At first glance, the F1-Score's drop from 0.724 to 0.153 (or 0.086) seems alarming. However, this metric must be interpreted within the context of fraud detection. The F1-score is a harmonic mean that treats precision and recall as equally important. In our business, they are not. **The financial and reputational cost of a missed fraudulent transaction (a false negative) is vastly higher than the operational cost of investigating a legitimate transaction (a false positive).** Therefore, by sacrificing precision to achieve a massive gain in recall, our new models are far better aligned with our core business objective: minimizing fraud losses. The lower F1-score simply reflects this strategic prioritization of recall over precision."
   ]
  },
  {
   "cell_type": "markdown",
   "id": "31782c35",
   "metadata": {},
   "source": [
    "### 3. Final Recommendation\n",
    "\n",
    "**Recommendation:** SecureBank Inc. should immediately adopt the **GMM-Oversampling** strategy to rebalance the training data for our fraud detection models.\n",
    "\n",
    "**Justification:**\n",
    "\n",
    "1.  **Massively Superior Fraud Capture Rate:** The empirical results are undeniable. The GMM-Oversampling model increases our ability to detect fraud from 64% to over 90%. This single improvement addresses the most critical weakness in our current system and provides a direct, measurable defense against financial loss.\n",
    "\n",
    "2.  **Theoretically Sound and Robust:** GMM is a powerful, model-based approach that learns the underlying probability distribution of the fraud data. This is fundamentally superior to simpler geometric methods, as it can capture complex, multi-modal patterns (multiple types of fraud) and generate high-fidelity synthetic data. This leads to a more generalized and robust classifier.\n",
    "\n",
    "3.  **Acceptable and Manageable Trade-offs:** The significant drop in precision is a known consequence of prioritizing recall. However, the operational cost of handling more false positives is a manageable business process challenge. The cost of *not* implementing this change—continuing to miss over 35% of fraud—is a direct and unacceptable financial risk. The benefits of enhanced security far outweigh the increased operational overhead.\n",
    "\n",
    "**Proposed Path Forward:**\n",
    "\n",
    "Between the two GMM-based methods, the **pure GMM-Oversampling model is the recommended choice**. While the Hybrid (CBU+GMM) model also dramatically improves recall, its precision (4.5%) and F1-score (0.086) are significantly worse than the pure oversampling model's (8.3% and 0.153, respectively). The pure GMM-Oversampling model provides a better balance, offering elite-level fraud capture while generating fewer false positives than the hybrid alternative. While it may require more computational resources for training, the superior performance justifies the investment.\n",
    "\n",
    "Project Phoenix has successfully proven that by leveraging advanced probabilistic models for data generation, we can build a significantly more effective and secure fraud detection system."
   ]
  }
 ],
 "metadata": {
  "kernelspec": {
   "display_name": "venv",
   "language": "python",
   "name": "python3"
  },
  "language_info": {
   "codemirror_mode": {
    "name": "ipython",
    "version": 3
   },
   "file_extension": ".py",
   "mimetype": "text/x-python",
   "name": "python",
   "nbconvert_exporter": "python",
   "pygments_lexer": "ipython3",
   "version": "3.13.5"
  }
 },
 "nbformat": 4,
 "nbformat_minor": 5
}
